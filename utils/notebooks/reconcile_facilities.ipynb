{
 "cells": [
  {
   "cell_type": "code",
   "execution_count": 1,
   "metadata": {},
   "outputs": [
    {
     "name": "stdout",
     "output_type": "stream",
     "text": [
      "Requirement already satisfied: install in /Users/hsb/Library/Python/3.9/lib/python/site-packages (1.3.4)\n",
      "Requirement already satisfied: wheel in /usr/local/lib/python3.9/site-packages (0.36.1)\n",
      "Requirement already satisfied: pandas in /Users/hsb/Library/Python/3.9/lib/python/site-packages (1.2.3)\n",
      "Requirement already satisfied: fuzzywuzzy in /Users/hsb/Library/Python/3.9/lib/python/site-packages (0.18.0)\n",
      "Requirement already satisfied: PyShp in /Users/hsb/Library/Python/3.9/lib/python/site-packages (2.1.3)\n",
      "Requirement already satisfied: geopandas in /Users/hsb/Library/Python/3.9/lib/python/site-packages (0.9.0)\n",
      "Requirement already satisfied: rtree in /Users/hsb/Library/Python/3.9/lib/python/site-packages (0.9.7)\n",
      "Requirement already satisfied: matplotlib in /Users/hsb/Library/Python/3.9/lib/python/site-packages (3.4.1)\n",
      "Requirement already satisfied: cartopy in /Users/hsb/Library/Python/3.9/lib/python/site-packages (0.18.0)\n",
      "Requirement already satisfied: cython in /Users/hsb/Library/Python/3.9/lib/python/site-packages (0.29.22)\n",
      "Requirement already satisfied: cartopy in /Users/hsb/Library/Python/3.9/lib/python/site-packages (0.18.0)\n",
      "Requirement already satisfied: python-Levenshtein in /Users/hsb/Library/Python/3.9/lib/python/site-packages (0.12.2)\n",
      "Requirement already satisfied: shapely>=1.5.6 in /Users/hsb/Library/Python/3.9/lib/python/site-packages (from cartopy) (1.7.1)\n",
      "Requirement already satisfied: PyShp in /Users/hsb/Library/Python/3.9/lib/python/site-packages (2.1.3)\n",
      "Requirement already satisfied: numpy>=1.10 in /usr/local/lib/python3.9/site-packages (from cartopy) (1.20.2)\n",
      "Requirement already satisfied: setuptools>=0.7.2 in /usr/local/lib/python3.9/site-packages (from cartopy) (51.0.0)\n",
      "Requirement already satisfied: six>=1.3.0 in /Users/hsb/Library/Python/3.9/lib/python/site-packages (from cartopy) (1.15.0)\n",
      "Requirement already satisfied: pandas in /Users/hsb/Library/Python/3.9/lib/python/site-packages (1.2.3)\n",
      "Requirement already satisfied: fiona>=1.8 in /Users/hsb/Library/Python/3.9/lib/python/site-packages (from geopandas) (1.8.18)\n",
      "Requirement already satisfied: shapely>=1.5.6 in /Users/hsb/Library/Python/3.9/lib/python/site-packages (from cartopy) (1.7.1)\n",
      "Requirement already satisfied: pyproj>=2.2.0 in /Users/hsb/Library/Python/3.9/lib/python/site-packages (from geopandas) (3.0.1)\n",
      "Requirement already satisfied: pillow>=6.2.0 in /Users/hsb/Library/Python/3.9/lib/python/site-packages (from matplotlib) (8.2.0)\n",
      "Requirement already satisfied: python-dateutil>=2.7 in /Users/hsb/Library/Python/3.9/lib/python/site-packages (from matplotlib) (2.8.1)\n",
      "Requirement already satisfied: kiwisolver>=1.0.1 in /Users/hsb/Library/Python/3.9/lib/python/site-packages (from matplotlib) (1.3.1)\n",
      "Requirement already satisfied: pyparsing>=2.2.1 in /Users/hsb/Library/Python/3.9/lib/python/site-packages (from matplotlib) (2.4.7)\n",
      "Requirement already satisfied: cycler>=0.10 in /Users/hsb/Library/Python/3.9/lib/python/site-packages (from matplotlib) (0.10.0)\n",
      "Requirement already satisfied: numpy>=1.10 in /usr/local/lib/python3.9/site-packages (from cartopy) (1.20.2)\n",
      "Requirement already satisfied: numpy>=1.10 in /usr/local/lib/python3.9/site-packages (from cartopy) (1.20.2)\n",
      "Requirement already satisfied: python-dateutil>=2.7 in /Users/hsb/Library/Python/3.9/lib/python/site-packages (from matplotlib) (2.8.1)\n",
      "Requirement already satisfied: pytz>=2017.3 in /Users/hsb/Library/Python/3.9/lib/python/site-packages (from pandas) (2021.1)\n",
      "Requirement already satisfied: setuptools>=0.7.2 in /usr/local/lib/python3.9/site-packages (from cartopy) (51.0.0)\n",
      "Requirement already satisfied: six>=1.3.0 in /Users/hsb/Library/Python/3.9/lib/python/site-packages (from cartopy) (1.15.0)\n",
      "Requirement already satisfied: certifi in /Users/hsb/Library/Python/3.9/lib/python/site-packages (from fiona>=1.8->geopandas) (2020.12.5)\n",
      "Requirement already satisfied: attrs>=17 in /Users/hsb/Library/Python/3.9/lib/python/site-packages (from fiona>=1.8->geopandas) (20.3.0)\n",
      "Requirement already satisfied: six>=1.3.0 in /Users/hsb/Library/Python/3.9/lib/python/site-packages (from cartopy) (1.15.0)\n",
      "Requirement already satisfied: munch in /Users/hsb/Library/Python/3.9/lib/python/site-packages (from fiona>=1.8->geopandas) (2.5.0)\n",
      "Requirement already satisfied: cligj>=0.5 in /Users/hsb/Library/Python/3.9/lib/python/site-packages (from fiona>=1.8->geopandas) (0.7.1)\n",
      "Requirement already satisfied: click-plugins>=1.0 in /Users/hsb/Library/Python/3.9/lib/python/site-packages (from fiona>=1.8->geopandas) (1.1.1)\n",
      "Requirement already satisfied: click<8,>=4.0 in /Users/hsb/Library/Python/3.9/lib/python/site-packages (from fiona>=1.8->geopandas) (7.1.2)\n",
      "Requirement already satisfied: click<8,>=4.0 in /Users/hsb/Library/Python/3.9/lib/python/site-packages (from fiona>=1.8->geopandas) (7.1.2)\n",
      "Requirement already satisfied: click<8,>=4.0 in /Users/hsb/Library/Python/3.9/lib/python/site-packages (from fiona>=1.8->geopandas) (7.1.2)\n",
      "Requirement already satisfied: six>=1.3.0 in /Users/hsb/Library/Python/3.9/lib/python/site-packages (from cartopy) (1.15.0)\n",
      "Requirement already satisfied: certifi in /Users/hsb/Library/Python/3.9/lib/python/site-packages (from fiona>=1.8->geopandas) (2020.12.5)\n",
      "Requirement already satisfied: six>=1.3.0 in /Users/hsb/Library/Python/3.9/lib/python/site-packages (from cartopy) (1.15.0)\n"
     ]
    }
   ],
   "source": [
    "! pip3 install --user install wheel pandas fuzzywuzzy PyShp geopandas rtree matplotlib cartopy cython cartopy python-Levenshtein"
   ]
  },
  {
   "cell_type": "code",
   "execution_count": 3,
   "metadata": {},
   "outputs": [],
   "source": [
    "import sys\n",
    "\n",
    "sys.path.append('/Users/hsb/Library/Python/3.9/lib/python/site-packages')\n",
    "sys.path.append('/usr/local/lib/python3.9/site-packages')\n",
    "\n",
    "import pandas as pd\n",
    "import io\n",
    "import requests\n",
    "from fuzzywuzzy import process, fuzz\n",
    "import shapefile\n",
    "import zipfile\n",
    "import json\n",
    "import matplotlib.pyplot as plt\n",
    "import geopandas as gpd\n",
    "from cartopy import crs as ccrs\n",
    "import numpy as np"
   ]
  },
  {
   "cell_type": "code",
   "execution_count": 4,
   "metadata": {},
   "outputs": [],
   "source": [
    "# read intermediate canonical facilities into dataframe\n",
    "intermediate_url=\"https://raw.githubusercontent.com/PTDP/data/main/intermediate_data/geocoded_company_facilities.csv\"\n",
    "intermediate = pd.read_csv(intermediate_url)\n",
    "\n",
    "hifld_url=\"https://opendata.arcgis.com/datasets/2d6109d4127d458eaf0958e4c5296b67_0.csv?outSR=%7B%22latestWkid%22%3A3857%2C%22wkid%22%3A102100%7D\"\n",
    "hifld=pd.read_csv(hifld_url)"
   ]
  },
  {
   "cell_type": "code",
   "execution_count": 5,
   "metadata": {},
   "outputs": [],
   "source": [
    "# Normalize facility google name\n",
    "\n",
    "# uppercase\n",
    "# remove entities before dash IL DOC - BIG MUDDY RIVER CORRECTIONAL CENTER\n",
    "\n",
    "def clean_facility_internal(str):\n",
    "    split = str.split(\"-\")\n",
    "    if (len(split) > 1):\n",
    "        return split[1]\n",
    "    return str\n",
    "\n",
    "intermediate['googlePlaceName'] = intermediate['googlePlaceName'].str.upper();\n",
    "intermediate['facilityInternal'] = intermediate['facilityInternal'].apply(lambda x: clean_facility_internal(x))"
   ]
  },
  {
   "cell_type": "code",
   "execution_count": 6,
   "metadata": {},
   "outputs": [
    {
     "name": "stdout",
     "output_type": "stream",
     "text": [
      "Downloading shapefile...\n",
      "Done\n"
     ]
    }
   ],
   "source": [
    "# Output GeoJSON Data\n",
    "hifld_shp_url=\"https://opendata.arcgis.com/datasets/2d6109d4127d458eaf0958e4c5296b67_0.zip?outSR=%7B%22latestWkid%22%3A3857%2C%22wkid%22%3A102100%7D\"\n",
    "local_path = 'hifld.zip'\n",
    "\n",
    "print('Downloading shapefile...')\n",
    "r = requests.get(hifld_shp_url)\n",
    "\n",
    "with open(local_path,'wb') as out: ## Open temporary file as bytes\n",
    "    out.write(io.BytesIO(r.content).read())                ## Read bytes into file\n",
    "\n",
    "print(\"Done\")"
   ]
  },
  {
   "cell_type": "code",
   "execution_count": 7,
   "metadata": {},
   "outputs": [
    {
     "name": "stdout",
     "output_type": "stream",
     "text": [
      "hello\n",
      "3021\n"
     ]
    }
   ],
   "source": [
    "# pre-join > 95 matches in same state\n",
    "#intermediate['g_name'] = sjoined.apply(lambda x: process.extractOne(x.googlePlaceName, hifld['NAME']), axis=1)\n",
    "#intermediate['internal_name'] = sjoined.apply(lambda x: process.extractOne(x.facilityInternal, hifld['NAME']), axis=1)\n",
    "print(\"hello\")\n",
    "\n",
    "hifld['state'] = hifld['STATE'].str.upper()\n",
    "hifld['googlePlaceName'] = hifld['NAME']\n",
    "hifld['facilityInternal'] = hifld['NAME']\n",
    "\n",
    "intermediate['facilityInternal'] = intermediate['facilityInternal'].str.upper()\n",
    "intermediate['googlePlaceName'] = intermediate['googlePlaceName'].str.upper()\n",
    "\n",
    "print(len(intermediate.index))\n",
    "\n",
    "merged_google = intermediate.merge(hifld, on=['state', 'googlePlaceName'])\n",
    "\n",
    "merged_facility = intermediate.merge(hifld, on=['state', 'facilityInternal'])\n",
    "\n",
    "exact_m = pd.concat([merged_google, merged_facility])\n",
    "\n",
    "# prefer exact matches on facility name\n",
    "exact_m.drop_duplicates(['uid'], keep='last', inplace=True)\n",
    "\n",
    "# keep only common columns\n",
    "exact_removed = pd.concat([intermediate, exact_m], join='inner', ignore_index=True)\n",
    "exact_removed.drop_duplicates(subset=['uid'], keep=False, inplace=True)\n",
    "\n",
    "# restore hifld state\n",
    "hifld.drop(columns=['googlePlaceName', 'facilityInternal', 'state'], inplace=True)"
   ]
  },
  {
   "cell_type": "code",
   "execution_count": 8,
   "metadata": {},
   "outputs": [],
   "source": [
    "#print(r.content)\n",
    "# hifld_geojson = shapefile.Reader(local_path + 'Prison_Boundaries.dbf').__geo_interface__\n",
    "gdf_intermediate = gpd.GeoDataFrame(exact_removed, geometry=gpd.points_from_xy(exact_removed.longitude, exact_removed.latitude))\n",
    "# remove null\n",
    "gdf_intermediate = gdf_intermediate[gdf_intermediate.is_valid]\n",
    "gdf_intermediate.crs = \"EPSG:4326\"\n",
    "gdf_intermediate = gdf_intermediate.to_crs(\"EPSG:3857\")\n",
    "\n",
    "# buffer in miles around each geocoded point\n",
    "buffer_length_in_meters = (2 * 1000) * 1.60934\n",
    "gdf_intermediate['geometry'] = gdf_intermediate.geometry.buffer(buffer_length_in_meters)\n",
    "\n",
    "def fuzz_token (arr):\n",
    "    print(arr)\n",
    "    return fuzz.token_set_ratio(arr[0], arr[1])\n",
    "\n",
    "\n",
    "gdf_hifld = gpd.read_file(local_path)\n",
    "\n",
    "sjoined = gpd.sjoin(gdf_intermediate, gdf_hifld)\n",
    "\n",
    "# get similarities for exact match\n",
    "exact_m[\"g_name_sim\"] = exact_m.apply(lambda x: fuzz.token_set_ratio(x.googlePlaceName, x.NAME), axis=1)\n",
    "exact_m[\"internal_name_sim\"] = exact_m.apply(lambda x: fuzz.token_set_ratio(x.facilityInternal, x.NAME), axis=1)\n",
    "exact_m['max_name_similarity'] = exact_m.apply(lambda x: max(x.g_name_sim, x.internal_name_sim), axis=1)\n",
    "exact_m['hidden'] = False\n",
    "\n",
    "# get similarities for spatial join\n",
    "sjoined[\"g_name_sim\"] = sjoined.apply(lambda x: fuzz.token_set_ratio(x.googlePlaceName, x.NAME), axis=1)\n",
    "sjoined[\"internal_name_sim\"] = sjoined.apply(lambda x: fuzz.token_set_ratio(x.facilityInternal, x.NAME), axis=1)\n",
    "sjoined['max_name_similarity'] = sjoined.apply(lambda x: max(x.g_name_sim, x.internal_name_sim), axis=1)\n",
    "sjoined['hidden'] = sjoined.apply(lambda x: x.max_name_similarity < 75 or (pd.isnull(x.FACILITYID)), axis=1)\n",
    "\n",
    "def make_column(df):\n",
    "    return pd.Series(np.random.randn(len(df['g_name_sim'])), index=df.index)\n",
    "\n",
    "sjoined['HIFLDID'] = \"\"\n",
    "sjoined['name_override'] =  \"\"\n",
    "sjoined['jurisdiction_override'] = \"\"\n",
    "sjoined['address_override'] = \"\"\n",
    "sjoined['longitude_override'] = \"\"\n",
    "sjoined['latitude_overrride'] = \"\"\n",
    "sjoined['state_override'] = \"\"\n",
    "sjoined['county_override'] = \"\"\n",
    "sjoined['countyFIPS_override'] = \"\"\n",
    "sjoined['HIFLDID_override'] = \"\"\n",
    "sjoined['UCLACovid19ID_override'] = \"\"\n",
    "sjoined['hidden_override'] = \"\"\n",
    "\n",
    "duplicated = sjoined[sjoined.duplicated('uid')]\n",
    "duplicated.head()\n",
    "\n",
    "sjoined_dedupe = sjoined.sort_values('max_name_similarity').drop_duplicates('uid', keep='last')\n",
    "\n",
    "sjoined_dedupe_m = pd\\\n",
    "    .concat([sjoined_dedupe, gdf_intermediate])\\\n",
    "    .drop_duplicates('uid')\\\n",
    "    .reset_index(drop=True)\n",
    "\n",
    "output = pd.concat([sjoined_dedupe_m, exact_m])\n",
    "\n",
    "output['HIFLDID'] = output['FACILITYID']\n",
    "output.drop(inplace=True, columns=['geometry','index_right','FID','FACILITYID','NAME','ADDRESS','CITY','STATE','ZIP','ZIP4','TELEPHONE','TYPE','STATUS','POPULATION','COUNTY','COUNTYFIPS','COUNTRY','NAICS_CODE','NAICS_DESC','SOURCE','SOURCEDATE','VAL_METHOD','VAL_DATE','WEBSITE','SECURELVL','CAPACITY','SHAPE_Leng','SHAPE_Le_1','SHAPE_Area'])\n",
    "\n",
    "output.to_csv('joined.csv', encoding=\"utf-8\", index=False)"
   ]
  },
  {
   "cell_type": "code",
   "execution_count": null,
   "metadata": {},
   "outputs": [],
   "source": []
  },
  {
   "cell_type": "code",
   "execution_count": null,
   "metadata": {},
   "outputs": [],
   "source": []
  },
  {
   "cell_type": "code",
   "execution_count": null,
   "metadata": {},
   "outputs": [],
   "source": []
  },
  {
   "cell_type": "code",
   "execution_count": null,
   "metadata": {},
   "outputs": [],
   "source": []
  }
 ],
 "metadata": {
  "kernelspec": {
   "display_name": "Python 3",
   "language": "python",
   "name": "python3"
  },
  "language_info": {
   "codemirror_mode": {
    "name": "ipython",
    "version": 3
   },
   "file_extension": ".py",
   "mimetype": "text/x-python",
   "name": "python",
   "nbconvert_exporter": "python",
   "pygments_lexer": "ipython3",
   "version": "3.9.1"
  }
 },
 "nbformat": 4,
 "nbformat_minor": 5
}
